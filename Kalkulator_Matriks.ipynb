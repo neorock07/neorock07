{
  "nbformat": 4,
  "nbformat_minor": 0,
  "metadata": {
    "colab": {
      "name": "Kalkulator_Matriks.ipynb",
      "provenance": [],
      "collapsed_sections": [],
      "authorship_tag": "ABX9TyOMA4MXSc0zoN6WnP2I4/7Y",
      "include_colab_link": true
    },
    "kernelspec": {
      "name": "python3",
      "display_name": "Python 3"
    },
    "language_info": {
      "name": "python"
    }
  },
  "cells": [
    {
      "cell_type": "markdown",
      "metadata": {
        "id": "view-in-github",
        "colab_type": "text"
      },
      "source": [
        "<a href=\"https://colab.research.google.com/github/neorock07/neorock07/blob/main/Kalkulator_Matriks.ipynb\" target=\"_parent\"><img src=\"https://colab.research.google.com/assets/colab-badge.svg\" alt=\"Open In Colab\"/></a>"
      ]
    },
    {
      "cell_type": "code",
      "execution_count": 1,
      "metadata": {
        "colab": {
          "base_uri": "https://localhost:8080/"
        },
        "id": "jzHo61C7BXSI",
        "outputId": "09afb418-d8e2-4a15-b4f8-cbdd531a92e9"
      },
      "outputs": [
        {
          "output_type": "stream",
          "name": "stdout",
          "text": [
            "Berapa Baris Matriks 1\t:2\n",
            "Berapa Kolom Matriks 1\t:2\n",
            "Input nilai,pisahkan dengan koma(,)\t:1,4\n",
            "Input nilai,pisahkan dengan koma(,)\t:2,6\n",
            "Berapa Baris Matriks 2\t:2\n",
            "Berapa Kolom Matriks 2\t:2\n",
            "Input nilai,pisahkan dengan koma(,)\t:5,3\n",
            "Input nilai,pisahkan dengan koma(,)\t:5,9\n",
            "1 4 \n",
            "2 6 \n",
            "\n",
            "-----\n",
            "\n",
            "5 3 \n",
            "5 9 \n",
            "\n",
            "--Hasil Jumlah--\n",
            "\n",
            "6 7 \n",
            "7 15 \n",
            "\n",
            "--Hasil Pengurangan--\n",
            "\n",
            "-4 1 \n",
            "-3 -3 \n",
            "\n",
            "--Hasil Perkalian--\n",
            "\n",
            "25 39 \n",
            "40 60 \n"
          ]
        }
      ],
      "source": [
        "#fungsi print 1 matriks\n",
        "def show(arr =[]):\n",
        "    for i in range(0,len(arr)):\n",
        "        for j in range(0,len(arr[0])):\n",
        "            print(arr[i][j],end=\" \")\n",
        "        print()\n",
        "# fungsi penjumlahan 2 matriks        \n",
        "def jumlah(arr=[],arr1=[]):\n",
        "    for i in range(0,len(arr)):\n",
        "        for j in range(0,len(arr[0])):\n",
        "            print(arr[i][j] + arr1[i][j],end=\" \")\n",
        "        print()\n",
        "# fungsi pengurangan 2 matriks        \n",
        "def kurang(arr=[],arr1=[]):\n",
        "    for i in range(0,len(arr)):\n",
        "        for j in range(0,len(arr[0])):\n",
        "            print(arr[i][j] - arr1[i][j],end=\" \")\n",
        "        print()\n",
        "# fungsi perkalian 2 matriks        \n",
        "def kali(arr=[],arr1=[]):\n",
        "    hasil =[]\n",
        "    for i in range(0,len(arr)):\n",
        "        baris =[]\n",
        "        for j in range(0,len(arr[0])):\n",
        "            nilai_kolom =0\n",
        "            for g in range(0,len(arr)):\n",
        "                nilai_kolom += (arr[i][g]*arr1[g][j]) \n",
        "            baris.append(nilai_kolom)\n",
        "        hasil.append(baris)   \n",
        "    show(hasil)        \n",
        "    \n",
        "# fungsi untuk membuat 2 matriks        \n",
        "def matriks(arr =[],ary =[]):\n",
        "#     matriks 1\n",
        "    br1 = int(input('Berapa Baris Matriks 1\\t:'))\n",
        "    col1 = int(input('Berapa Kolom Matriks 1\\t:'))\n",
        "    for i in range(0,br1):\n",
        "        inp_1 = input('Input nilai,pisahkan dengan koma(,)\\t:')\n",
        "        for j in range(1,col1):\n",
        "            inp_1 = list(map(int,str(inp_1).split(',')))\n",
        "        arr.append(inp_1)\n",
        "#     matriks 2        \n",
        "    br2 = int(input('Berapa Baris Matriks 2\\t:'))\n",
        "    col2 = int(input('Berapa Kolom Matriks 2\\t:'))\n",
        "    for i in range(0,br2):\n",
        "        inp_2 = input('Input nilai,pisahkan dengan koma(,)\\t:')\n",
        "        for j in range(1,col2):\n",
        "            inp_2 = list(map(int,str(inp_2).split(',')))\n",
        "        ary.append(inp_2)\n",
        "            \n",
        "arr=[]\n",
        "ary =[]\n",
        "matriks(arr,ary)\n",
        "show(arr)\n",
        "print('\\n-----\\n')\n",
        "show(ary)\n",
        "print('\\n--Hasil Jumlah--\\n')\n",
        "jumlah(arr,ary)\n",
        "print('\\n--Hasil Pengurangan--\\n')\n",
        "kurang(arr,ary)\n",
        "print('\\n--Hasil Perkalian--\\n')\n",
        "kali(arr,ary)\n"
      ]
    },
    {
      "cell_type": "code",
      "source": [
        ""
      ],
      "metadata": {
        "id": "kWajymBvBdMa"
      },
      "execution_count": null,
      "outputs": []
    }
  ]
}